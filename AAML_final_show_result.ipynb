{
  "cells": [
    {
      "cell_type": "markdown",
      "metadata": {
        "id": "-808KjY7tTm3"
      },
      "source": [
        "**下面是測試結果：**"
      ]
    },
    {
      "cell_type": "code",
      "execution_count": null,
      "metadata": {
        "colab": {
          "base_uri": "https://localhost:8080/"
        },
        "id": "7ZZVXVZLuVx9",
        "outputId": "92b4262a-1d2b-4686-a2b6-38be4e82d26c"
      },
      "outputs": [
        {
          "output_type": "stream",
          "name": "stdout",
          "text": [
            "Mounted at /content/drive\n"
          ]
        }
      ],
      "source": [
        "from google.colab import drive\n",
        "drive.mount('/content/drive')"
      ]
    },
    {
      "cell_type": "code",
      "execution_count": null,
      "metadata": {
        "id": "4BQGsMuIipv4"
      },
      "outputs": [],
      "source": [
        "import tensorflow as tf\n",
        "from tensorflow.keras.models import load_model\n",
        "from tensorflow.keras.preprocessing.image import img_to_array\n",
        "import numpy as np\n",
        "import cv2\n",
        "import time\n",
        "from google.colab.patches import cv2_imshow"
      ]
    },
    {
      "cell_type": "code",
      "execution_count": null,
      "metadata": {
        "id": "wQr2O2Upixyz"
      },
      "outputs": [],
      "source": [
        "# loading the stored model from file\n",
        "model=load_model(r'/content/drive/Shareddrives/AAML_final/FireNet-LightWeight-Network-for-Fire-Detection/Trained_Model_FIreNet/train1.h5', compile=False)\n",
        "\n",
        "cap = cv2.VideoCapture(r'/content/drive/Shareddrives/AAML_final/Our_Complete_Dataset_Video_and_extra_NoFire_Frames/fire/FireVid20.mp4')\n",
        "time.sleep(2)\n",
        "\n",
        "if cap.isOpened(): # try to get the first frame\n",
        "    rval, frame = cap.read()\n",
        "else:\n",
        "    rval = False\n",
        "\n",
        "\n",
        "IMG_SIZE = 64"
      ]
    },
    {
      "cell_type": "code",
      "execution_count": null,
      "metadata": {
        "id": "oXQoPkqTjXX2"
      },
      "outputs": [],
      "source": [
        "import os\n",
        "import psutil\n",
        "\n",
        "while(1):\n",
        "\n",
        "    rval, image = cap.read()\n",
        "    if rval==True:\n",
        "        orig = image.copy()\n",
        "        \n",
        "        # image = cv2.cvtColor(image, cv2.COLOR_BGR2GRAY)\n",
        "        image = cv2.resize(image, (IMG_SIZE, IMG_SIZE))  \n",
        "        image = image.astype(\"float\") / 255.0\n",
        "        image = img_to_array(image)\n",
        "        image = np.expand_dims(image, axis=0)\n",
        "        \n",
        "        tic = time.time()\n",
        "        fire_prob = model.predict(image)[0][0] * 100\n",
        "        toc = time.time()\n",
        "        # CPU usage\n",
        "        print('CPU usage :', psutil.cpu_percent(), '%')\n",
        "        # Memory usage\n",
        "        total_memory, used_memory, free_memory = map(\n",
        "        int, os.popen('free -t -m').readlines()[-1].split()[1:])\n",
        "        print(\"RAM memory: \", round((used_memory/total_memory) * 100, 2), '%')\n",
        "        print(\"Time taken = \", toc - tic)\n",
        "        print(\"FPS: \", 1 / np.float64(toc - tic))\n",
        "        print(\"Fire Probability: \", fire_prob)\n",
        "        print(image.shape)\n",
        "        \n",
        "        label = \"Fire Probability: \" + str(fire_prob)\n",
        "        cv2.putText(orig, label, (10, 25),  cv2.FONT_HERSHEY_SIMPLEX,0.7, (0, 255, 0), 2)\n",
        "\n",
        "        cv2_imshow(orig)\n",
        "        \n",
        "        key = cv2.waitKey(10)\n",
        "        if key == 27: # exit on ESC\n",
        "            break\n",
        "    elif rval==False:\n",
        "            break\n",
        "end = time.time()\n",
        "\n",
        "\n",
        "cap.release()\n",
        "cv2.destroyAllWindows()"
      ]
    }
  ],
  "metadata": {
    "colab": {
      "name": "AAML_final_show_result.ipynb",
      "provenance": []
    },
    "kernelspec": {
      "display_name": "Python 3",
      "name": "python3"
    },
    "language_info": {
      "name": "python"
    }
  },
  "nbformat": 4,
  "nbformat_minor": 0
}